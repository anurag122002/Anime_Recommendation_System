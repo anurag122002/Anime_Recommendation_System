{
 "cells": [
  {
   "cell_type": "markdown",
   "id": "e7c0bc70",
   "metadata": {},
   "source": [
    "# Content Based Recommender system"
   ]
  },
  {
   "cell_type": "code",
   "execution_count": 1,
   "id": "f3b08b8b",
   "metadata": {},
   "outputs": [],
   "source": [
    "# In this recommender system the content of the movie \n",
    "# (overview, cast, crew, keyword, tagline etc) is used to find its similarity with other movies. \n",
    "# Then the movies that are most likely to be similar are recommended."
   ]
  },
  {
   "cell_type": "code",
   "execution_count": 4,
   "id": "ac69753a",
   "metadata": {},
   "outputs": [],
   "source": [
    "# let's import our data\n",
    "import pandas as pd\n",
    "df = pd.read_csv(r'C:\\Users\\kinwa\\Downloads\\Anime.csv\\Anime.csv')"
   ]
  },
  {
   "cell_type": "code",
   "execution_count": 5,
   "id": "b927b5a0",
   "metadata": {},
   "outputs": [
    {
     "data": {
      "text/html": [
       "<div>\n",
       "<style scoped>\n",
       "    .dataframe tbody tr th:only-of-type {\n",
       "        vertical-align: middle;\n",
       "    }\n",
       "\n",
       "    .dataframe tbody tr th {\n",
       "        vertical-align: top;\n",
       "    }\n",
       "\n",
       "    .dataframe thead th {\n",
       "        text-align: right;\n",
       "    }\n",
       "</style>\n",
       "<table border=\"1\" class=\"dataframe\">\n",
       "  <thead>\n",
       "    <tr style=\"text-align: right;\">\n",
       "      <th></th>\n",
       "      <th>Rank</th>\n",
       "      <th>Name</th>\n",
       "      <th>Japanese_name</th>\n",
       "      <th>Type</th>\n",
       "      <th>Episodes</th>\n",
       "      <th>Studio</th>\n",
       "      <th>Release_season</th>\n",
       "      <th>Tags</th>\n",
       "      <th>Rating</th>\n",
       "      <th>Release_year</th>\n",
       "      <th>End_year</th>\n",
       "      <th>Description</th>\n",
       "      <th>Content_Warning</th>\n",
       "      <th>Related_Mange</th>\n",
       "      <th>Related_anime</th>\n",
       "      <th>Voice_actors</th>\n",
       "      <th>staff</th>\n",
       "    </tr>\n",
       "  </thead>\n",
       "  <tbody>\n",
       "    <tr>\n",
       "      <th>0</th>\n",
       "      <td>1</td>\n",
       "      <td>Demon Slayer: Kimetsu no Yaiba - Entertainment...</td>\n",
       "      <td>Kimetsu no Yaiba: Yuukaku-hen</td>\n",
       "      <td>TV</td>\n",
       "      <td>NaN</td>\n",
       "      <td>ufotable</td>\n",
       "      <td>Fall</td>\n",
       "      <td>Action, Adventure, Fantasy, Shounen, Demons, H...</td>\n",
       "      <td>4.60</td>\n",
       "      <td>2021.0</td>\n",
       "      <td>NaN</td>\n",
       "      <td>'Tanjiro and his friends accompany the Hashira...</td>\n",
       "      <td>Explicit Violence</td>\n",
       "      <td>Demon Slayer: Kimetsu no Yaiba</td>\n",
       "      <td>Demon Slayer: Kimetsu no Yaiba, Demon Slayer: ...</td>\n",
       "      <td>Inosuke Hashibira : Yoshitsugu Matsuoka, Nezuk...</td>\n",
       "      <td>Koyoharu Gotouge : Original Creator, Haruo Sot...</td>\n",
       "    </tr>\n",
       "    <tr>\n",
       "      <th>1</th>\n",
       "      <td>2</td>\n",
       "      <td>Fruits Basket the Final Season</td>\n",
       "      <td>Fruits Basket the Final</td>\n",
       "      <td>TV</td>\n",
       "      <td>13.0</td>\n",
       "      <td>TMS Entertainment</td>\n",
       "      <td>Spring</td>\n",
       "      <td>Drama, Fantasy, Romance, Shoujo, Animal Transf...</td>\n",
       "      <td>4.60</td>\n",
       "      <td>2021.0</td>\n",
       "      <td>NaN</td>\n",
       "      <td>'The final arc of Fruits Basket.'</td>\n",
       "      <td>Emotional Abuse,, Mature Themes,, Physical Abu...</td>\n",
       "      <td>Fruits Basket, Fruits Basket Another</td>\n",
       "      <td>Fruits Basket 1st Season, Fruits Basket 2nd Se...</td>\n",
       "      <td>Akito Sohma : Maaya Sakamoto, Kyo Sohma : Yuum...</td>\n",
       "      <td>Natsuki Takaya : Original Creator, Yoshihide I...</td>\n",
       "    </tr>\n",
       "    <tr>\n",
       "      <th>2</th>\n",
       "      <td>3</td>\n",
       "      <td>Mo Dao Zu Shi 3</td>\n",
       "      <td>The Founder of Diabolism 3</td>\n",
       "      <td>Web</td>\n",
       "      <td>12.0</td>\n",
       "      <td>B.C MAY PICTURES</td>\n",
       "      <td>NaN</td>\n",
       "      <td>Fantasy, Ancient China, Chinese Animation, Cul...</td>\n",
       "      <td>4.58</td>\n",
       "      <td>2021.0</td>\n",
       "      <td>NaN</td>\n",
       "      <td>'The third season of Mo Dao Zu Shi.'</td>\n",
       "      <td>NaN</td>\n",
       "      <td>Grandmaster of Demonic Cultivation: Mo Dao Zu ...</td>\n",
       "      <td>Mo Dao Zu Shi 2, Mo Dao Zu Shi Q</td>\n",
       "      <td>Lan Wangji, Wei Wuxian, Jiang Cheng, Jin Guang...</td>\n",
       "      <td>Mo Xiang Tong Xiu : Original Creator, Xiong Ke...</td>\n",
       "    </tr>\n",
       "    <tr>\n",
       "      <th>3</th>\n",
       "      <td>4</td>\n",
       "      <td>Fullmetal Alchemist: Brotherhood</td>\n",
       "      <td>Hagane no Renkinjutsushi: Full Metal Alchemist</td>\n",
       "      <td>TV</td>\n",
       "      <td>64.0</td>\n",
       "      <td>Bones</td>\n",
       "      <td>Spring</td>\n",
       "      <td>Action, Adventure, Drama, Fantasy, Mystery, Sh...</td>\n",
       "      <td>4.58</td>\n",
       "      <td>2009.0</td>\n",
       "      <td>2010.0</td>\n",
       "      <td>\"The foundation of alchemy is based on the law...</td>\n",
       "      <td>Animal Abuse,, Mature Themes,, Violence,, Dome...</td>\n",
       "      <td>Fullmetal Alchemist, Fullmetal Alchemist (Ligh...</td>\n",
       "      <td>Fullmetal Alchemist: Brotherhood Specials, Ful...</td>\n",
       "      <td>Alphonse Elric : Rie Kugimiya, Edward Elric : ...</td>\n",
       "      <td>Hiromu Arakawa : Original Creator, Yasuhiro Ir...</td>\n",
       "    </tr>\n",
       "    <tr>\n",
       "      <th>4</th>\n",
       "      <td>5</td>\n",
       "      <td>Attack on Titan 3rd Season: Part II</td>\n",
       "      <td>Shingeki no Kyojin Season 3: Part II</td>\n",
       "      <td>TV</td>\n",
       "      <td>10.0</td>\n",
       "      <td>WIT Studio</td>\n",
       "      <td>Spring</td>\n",
       "      <td>Action, Fantasy, Horror, Shounen, Dark Fantasy...</td>\n",
       "      <td>4.57</td>\n",
       "      <td>2019.0</td>\n",
       "      <td>NaN</td>\n",
       "      <td>'The battle to retake Wall Maria begins now! W...</td>\n",
       "      <td>Cannibalism,, Explicit Violence</td>\n",
       "      <td>Attack on Titan, Attack on Titan: End of the W...</td>\n",
       "      <td>Attack on Titan, Attack on Titan 2nd Season, A...</td>\n",
       "      <td>Armin Arlelt : Marina Inoue, Eren Jaeger : Yuu...</td>\n",
       "      <td>Hajime Isayama : Original Creator, Tetsurou Ar...</td>\n",
       "    </tr>\n",
       "  </tbody>\n",
       "</table>\n",
       "</div>"
      ],
      "text/plain": [
       "   Rank                                               Name  \\\n",
       "0     1  Demon Slayer: Kimetsu no Yaiba - Entertainment...   \n",
       "1     2                     Fruits Basket the Final Season   \n",
       "2     3                                    Mo Dao Zu Shi 3   \n",
       "3     4                   Fullmetal Alchemist: Brotherhood   \n",
       "4     5                Attack on Titan 3rd Season: Part II   \n",
       "\n",
       "                                     Japanese_name   Type  Episodes  \\\n",
       "0                    Kimetsu no Yaiba: Yuukaku-hen  TV          NaN   \n",
       "1                          Fruits Basket the Final  TV         13.0   \n",
       "2                       The Founder of Diabolism 3  Web        12.0   \n",
       "3   Hagane no Renkinjutsushi: Full Metal Alchemist  TV         64.0   \n",
       "4             Shingeki no Kyojin Season 3: Part II  TV         10.0   \n",
       "\n",
       "              Studio Release_season  \\\n",
       "0           ufotable          Fall    \n",
       "1  TMS Entertainment         Spring   \n",
       "2   B.C MAY PICTURES            NaN   \n",
       "3              Bones         Spring   \n",
       "4         WIT Studio         Spring   \n",
       "\n",
       "                                                Tags  Rating  Release_year  \\\n",
       "0  Action, Adventure, Fantasy, Shounen, Demons, H...    4.60        2021.0   \n",
       "1  Drama, Fantasy, Romance, Shoujo, Animal Transf...    4.60        2021.0   \n",
       "2  Fantasy, Ancient China, Chinese Animation, Cul...    4.58        2021.0   \n",
       "3  Action, Adventure, Drama, Fantasy, Mystery, Sh...    4.58        2009.0   \n",
       "4  Action, Fantasy, Horror, Shounen, Dark Fantasy...    4.57        2019.0   \n",
       "\n",
       "   End_year                                        Description  \\\n",
       "0       NaN  'Tanjiro and his friends accompany the Hashira...   \n",
       "1       NaN                  'The final arc of Fruits Basket.'   \n",
       "2       NaN               'The third season of Mo Dao Zu Shi.'   \n",
       "3    2010.0  \"The foundation of alchemy is based on the law...   \n",
       "4       NaN  'The battle to retake Wall Maria begins now! W...   \n",
       "\n",
       "                                     Content_Warning  \\\n",
       "0                                  Explicit Violence   \n",
       "1  Emotional Abuse,, Mature Themes,, Physical Abu...   \n",
       "2                                                NaN   \n",
       "3  Animal Abuse,, Mature Themes,, Violence,, Dome...   \n",
       "4                    Cannibalism,, Explicit Violence   \n",
       "\n",
       "                                       Related_Mange  \\\n",
       "0                     Demon Slayer: Kimetsu no Yaiba   \n",
       "1               Fruits Basket, Fruits Basket Another   \n",
       "2  Grandmaster of Demonic Cultivation: Mo Dao Zu ...   \n",
       "3  Fullmetal Alchemist, Fullmetal Alchemist (Ligh...   \n",
       "4  Attack on Titan, Attack on Titan: End of the W...   \n",
       "\n",
       "                                       Related_anime  \\\n",
       "0  Demon Slayer: Kimetsu no Yaiba, Demon Slayer: ...   \n",
       "1  Fruits Basket 1st Season, Fruits Basket 2nd Se...   \n",
       "2                   Mo Dao Zu Shi 2, Mo Dao Zu Shi Q   \n",
       "3  Fullmetal Alchemist: Brotherhood Specials, Ful...   \n",
       "4  Attack on Titan, Attack on Titan 2nd Season, A...   \n",
       "\n",
       "                                        Voice_actors  \\\n",
       "0  Inosuke Hashibira : Yoshitsugu Matsuoka, Nezuk...   \n",
       "1  Akito Sohma : Maaya Sakamoto, Kyo Sohma : Yuum...   \n",
       "2  Lan Wangji, Wei Wuxian, Jiang Cheng, Jin Guang...   \n",
       "3  Alphonse Elric : Rie Kugimiya, Edward Elric : ...   \n",
       "4  Armin Arlelt : Marina Inoue, Eren Jaeger : Yuu...   \n",
       "\n",
       "                                               staff  \n",
       "0  Koyoharu Gotouge : Original Creator, Haruo Sot...  \n",
       "1  Natsuki Takaya : Original Creator, Yoshihide I...  \n",
       "2  Mo Xiang Tong Xiu : Original Creator, Xiong Ke...  \n",
       "3  Hiromu Arakawa : Original Creator, Yasuhiro Ir...  \n",
       "4  Hajime Isayama : Original Creator, Tetsurou Ar...  "
      ]
     },
     "execution_count": 5,
     "metadata": {},
     "output_type": "execute_result"
    }
   ],
   "source": [
    "df.head()"
   ]
  },
  {
   "cell_type": "markdown",
   "id": "bbc903e6",
   "metadata": {},
   "source": [
    "### Plot description based Recommender"
   ]
  },
  {
   "cell_type": "code",
   "execution_count": 6,
   "id": "57d8aa0c",
   "metadata": {},
   "outputs": [],
   "source": [
    "# We will compute pairwise similarity scores for all animes based on their plot descriptions and \n",
    "# recommend animes based on that similarity score. \n",
    "# The plot description is given in the overview feature of our dataset. Let's take a look at the data. .."
   ]
  },
  {
   "cell_type": "code",
   "execution_count": 9,
   "id": "3103c92f",
   "metadata": {},
   "outputs": [
    {
     "data": {
      "text/plain": [
       "0    'Tanjiro and his friends accompany the Hashira...\n",
       "1                    'The final arc of Fruits Basket.'\n",
       "2                 'The third season of Mo Dao Zu Shi.'\n",
       "3    \"The foundation of alchemy is based on the law...\n",
       "4    'The battle to retake Wall Maria begins now! W...\n",
       "Name: Description, dtype: object"
      ]
     },
     "execution_count": 9,
     "metadata": {},
     "output_type": "execute_result"
    }
   ],
   "source": [
    "df.Description.head()"
   ]
  },
  {
   "cell_type": "code",
   "execution_count": 10,
   "id": "67a101b3",
   "metadata": {},
   "outputs": [],
   "source": [
    "# we need to convert the word vector for each description therefore we will TF-IDF VEctorizer"
   ]
  },
  {
   "cell_type": "code",
   "execution_count": 11,
   "id": "256f56da",
   "metadata": {},
   "outputs": [
    {
     "data": {
      "text/plain": [
       "(18495, 34609)"
      ]
     },
     "execution_count": 11,
     "metadata": {},
     "output_type": "execute_result"
    }
   ],
   "source": [
    "#Import TfIdfVectorizer from scikit-learn\n",
    "from sklearn.feature_extraction.text import TfidfVectorizer\n",
    "\n",
    "#Define a TF-IDF Vectorizer Object. Remove all english stop words such as 'the', 'a'\n",
    "tfidf = TfidfVectorizer(stop_words='english')\n",
    "\n",
    "#Replace NaN with an empty string\n",
    "df['Description'] = df['Description'].fillna('')\n",
    "\n",
    "#Construct the required TF-IDF matrix by fitting and transforming the data\n",
    "tfidf_matrix = tfidf.fit_transform(df['Description'])\n",
    "\n",
    "#Output the shape of tfidf_matrix\n",
    "tfidf_matrix.shape"
   ]
  },
  {
   "cell_type": "code",
   "execution_count": 12,
   "id": "08707d00",
   "metadata": {},
   "outputs": [],
   "source": [
    "# Since we have used the TF-IDF vectorizer, \n",
    "# calculating the dot product will directly give us the cosine similarity score. \n",
    "# Therefore, we will use sklearn's linear_kernel() instead of cosine_similarities() since it is faster."
   ]
  },
  {
   "cell_type": "code",
   "execution_count": 13,
   "id": "01295b3a",
   "metadata": {},
   "outputs": [],
   "source": [
    "# Import linear_kernel\n",
    "from sklearn.metrics.pairwise import linear_kernel\n",
    "\n",
    "# Compute the cosine similarity matrix\n",
    "cosine_sim = linear_kernel(tfidf_matrix, tfidf_matrix)"
   ]
  },
  {
   "cell_type": "code",
   "execution_count": 14,
   "id": "189279b5",
   "metadata": {},
   "outputs": [],
   "source": [
    "# We are going to define a function that takes in animes title as an input and outputs \n",
    "# a list of the 10 most similar animes. Firstly, for this, \n",
    "# we need a reverse mapping of anime titles and DataFrame indices. In other words, \n",
    "# we need a mechanism to identify the index of an anime in our metadata DataFrame, given its title"
   ]
  },
  {
   "cell_type": "code",
   "execution_count": 16,
   "id": "8c076567",
   "metadata": {},
   "outputs": [],
   "source": [
    "#Construct a reverse map of indices and movie titles\n",
    "indices = pd.Series(df.index, index=df['Name']).drop_duplicates()"
   ]
  },
  {
   "cell_type": "code",
   "execution_count": 24,
   "id": "aa3d4c15",
   "metadata": {},
   "outputs": [],
   "source": [
    "# Function that takes in anime title as input and outputs most similar animes\n",
    "def get_recommendations(name, cosine_sim=cosine_sim):\n",
    "    # Get the index of the anime that matches the title\n",
    "    idx = indices[name]\n",
    "\n",
    "    # Get the pairwsie similarity scores of all animes with that movie\n",
    "    sim_scores = list(enumerate(cosine_sim[idx]))\n",
    "\n",
    "    # Sort the animes based on the similarity scores\n",
    "    sim_scores = sorted(sim_scores, key=lambda x: x[1], reverse=True)\n",
    "\n",
    "    # Get the scores of the 10 most similar animes\n",
    "    sim_scores = sim_scores[1:11]\n",
    "\n",
    "    # Get the anime indices\n",
    "    anime_indices = [i[0] for i in sim_scores]\n",
    "\n",
    "    # Return the top 10 most similar animes\n",
    "    return df['Name'].iloc[anime_indices]"
   ]
  },
  {
   "cell_type": "code",
   "execution_count": 25,
   "id": "1919afbb",
   "metadata": {},
   "outputs": [
    {
     "data": {
      "text/plain": [
       "77                      Attack on Titan 2nd Season\n",
       "42                      Attack on Titan 3rd Season\n",
       "12772                                   Back Arrow\n",
       "3895                  Attack on Titan: Junior High\n",
       "6        Attack on Titan The Final Season: Part II\n",
       "7977                                 Boundary line\n",
       "4912                            Record of Ragnarok\n",
       "4106               Robotech: The Shadow Chronicles\n",
       "4477                        Happy Lucky Bikkuriman\n",
       "748                    Attack on Titan: Lost Girls\n",
       "Name: Name, dtype: object"
      ]
     },
     "execution_count": 25,
     "metadata": {},
     "output_type": "execute_result"
    }
   ],
   "source": [
    "get_recommendations('Attack on Titan 3rd Season: Part II')"
   ]
  },
  {
   "cell_type": "code",
   "execution_count": null,
   "id": "91b698c5",
   "metadata": {},
   "outputs": [],
   "source": []
  }
 ],
 "metadata": {
  "kernelspec": {
   "display_name": "Python 3 (ipykernel)",
   "language": "python",
   "name": "python3"
  },
  "language_info": {
   "codemirror_mode": {
    "name": "ipython",
    "version": 3
   },
   "file_extension": ".py",
   "mimetype": "text/x-python",
   "name": "python",
   "nbconvert_exporter": "python",
   "pygments_lexer": "ipython3",
   "version": "3.11.4"
  }
 },
 "nbformat": 4,
 "nbformat_minor": 5
}
